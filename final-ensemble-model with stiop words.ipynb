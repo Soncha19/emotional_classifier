{
 "cells": [
  {
   "cell_type": "code",
   "execution_count": null,
   "metadata": {
    "_cell_guid": "b1076dfc-b9ad-4769-8c92-a6c4dae69d19",
    "_uuid": "8f2839f25d086af736a60e9eeb907d3b93b6e0e5",
    "execution": {
     "iopub.execute_input": "2025-05-13T11:57:05.379622Z",
     "iopub.status.busy": "2025-05-13T11:57:05.379325Z",
     "iopub.status.idle": "2025-05-13T11:57:05.386943Z",
     "shell.execute_reply": "2025-05-13T11:57:05.386030Z",
     "shell.execute_reply.started": "2025-05-13T11:57:05.379600Z"
    },
    "trusted": true
   },
   "outputs": [],
   "source": [
    "import pandas as pd\n",
    "import numpy as np\n",
    "import string\n",
    "\n",
    "from sklearn.model_selection import train_test_split, cross_val_score,GridSearchCV, RandomizedSearchCV\n",
    "from sklearn.metrics import confusion_matrix, classification_report, accuracy_score\n",
    "from sklearn.pipeline import Pipeline\n",
    "\n",
    "from nltk.corpus import stopwords\n",
    "from nltk.stem import WordNetLemmatizer\n",
    "import spacy\n",
    "\n",
    "import matplotlib.pyplot as plt\n",
    "import seaborn as sns\n",
    "import tensorflow as tf\n",
    "from tensorflow.keras import layers\n",
    "from tensorflow.keras.models import Sequential\n",
    "from tensorflow.keras.layers import Dense\n",
    "\n",
    "import warnings\n",
    "warnings.filterwarnings(\"ignore\")\n",
    "\n",
    "pd.set_option('display.max_columns', None)\n",
    "pd.set_option('display.width', None)\n",
    "pd.set_option('display.max_rows', 55)\n",
    "pd.set_option('display.float_format', lambda x: '%.3f' % x)"
   ]
  },
  {
   "cell_type": "code",
   "execution_count": 9,
   "metadata": {
    "execution": {
     "iopub.execute_input": "2025-05-13T11:57:11.907835Z",
     "iopub.status.busy": "2025-05-13T11:57:11.907456Z",
     "iopub.status.idle": "2025-05-13T11:57:53.192414Z",
     "shell.execute_reply": "2025-05-13T11:57:53.191566Z",
     "shell.execute_reply.started": "2025-05-13T11:57:11.907805Z"
    },
    "trusted": true
   },
   "outputs": [
    {
     "name": "stdout",
     "output_type": "stream",
     "text": [
      "                                                   title  \\\n",
      "0                              fantasizing about your fp   \n",
      "1      this is a support subreddit for people with a ...   \n",
      "2                        scared of my psychotic symptoms   \n",
      "4      i feel like a sick animal that needs to be put...   \n",
      "5      is constantly checking ocd subreddits a compul...   \n",
      "...                                                  ...   \n",
      "52637  i got diagnosed with pure o, and finding it di...   \n",
      "52638                 where can i read up on propaganda?   \n",
      "52639  need help \"keeping thoughts straight,\" or, mai...   \n",
      "52640  does anyone else feel like none of their exper...   \n",
      "52641                         wish me luck at work today   \n",
      "\n",
      "                                               main_text  label  \n",
      "0      do you do it? what do you fantasize about? : w...      3  \n",
      "1      it's not for posting how infuriating the uneve...      6  \n",
      "2      i'm trying to keep reminding myself that what ...      2  \n",
      "4      i had a cat for 18 years. at the end of her li...      4  \n",
      "5      i kid you not, when i have the thoughts, i’m c...      6  \n",
      "...                                                  ...    ...  \n",
      "52637  i am 27, and spent most of my life worried abo...      6  \n",
      "52638  i want to learn about the tactics and psycholo...      5  \n",
      "52639  i've always been crap at math or abstract conc...      0  \n",
      "52640  i've had a lot of people tell me i have anxiet...      1  \n",
      "52641  oh god my anxiety is killing to me today. i’m ...      1  \n",
      "\n",
      "[48084 rows x 3 columns]\n"
     ]
    }
   ],
   "source": [
    "import pandas as pd\n",
    "from datasets import load_dataset\n",
    "\n",
    "# Завантаження датасету\n",
    "dataset = load_dataset('mavinsao/reddit-mental-illness-82')\n",
    "df_tr = dataset['train'].to_pandas()\n",
    "df_val = dataset['validation'].to_pandas()\n",
    "df_ts = dataset['test'].to_pandas()\n",
    "df = pd.concat([df_tr, df_val, df_ts], axis=0, ignore_index=True)\n",
    "\n",
    "# Перетворення тексту на нижній регістр\n",
    "df['text'] = df['text'].str.lower()\n",
    "\n",
    "# Фільтрація рядків за наявністю ключових слів\n",
    "keywords = [\n",
    "    \"think i have\", \"i think i have\", \"i think it might be\", \"i think i could have\",\n",
    "    \"might have\", \"i might have\", \"might be\", \"feel like i have\", \"i feel like i have\",\n",
    "    \"feels like i have\", \"self-diagnose\", \"self-diagnosed\", \"i've self-diagnosed\",\n",
    "    \"unsure if i have\", \"i'm unsure if\", \"unsure if this is\", \"wonder if i have\",\n",
    "    \"i wonder if i have\", \"wonder if it's\", \"symptoms of\", \"i have symptoms of\",\n",
    "    \"experiencing symptoms of\", \"suspect i have\", \"i suspect i have\", \"i suspect it's\",\n",
    "    \"probably have\", \"i probably have\", \"i think i probably have\", \"could be\", \"it could be\",\n",
    "    \"seems like i have\", \"it seems like i have\", \"it seems like\", \"not diagnosed but\",\n",
    "    \"i am not diagnosed but\", \"i haven't been diagnosed but\"\n",
    "]\n",
    "\n",
    "df = df[~df['text'].str.contains('|'.join(keywords), case=False, na=False)]\n",
    "\n",
    "# Розбиття тексту на заголовок і основний текст\n",
    "def split_text(row):\n",
    "    if ':' in row:\n",
    "        parts = row.split(':', 1)\n",
    "        return parts[0].strip(), parts[1].strip()\n",
    "    return None, row.strip()\n",
    "\n",
    "df[['title', 'main_text']] = df['text'].apply(split_text).apply(pd.Series)\n",
    "\n",
    "# Перевірка результату\n",
    "print(df[['title', 'main_text', 'label']])\n"
   ]
  },
  {
   "cell_type": "code",
   "execution_count": null,
   "metadata": {
    "execution": {
     "iopub.execute_input": "2025-05-13T11:58:31.066238Z",
     "iopub.status.busy": "2025-05-13T11:58:31.065661Z",
     "iopub.status.idle": "2025-05-13T12:23:59.276612Z",
     "shell.execute_reply": "2025-05-13T12:23:59.275647Z",
     "shell.execute_reply.started": "2025-05-13T11:58:31.066218Z"
    },
    "trusted": true
   },
   "outputs": [
    {
     "name": "stdout",
     "output_type": "stream",
     "text": [
      "                                                    text  label  \\\n",
      "0      fantasizing about your fp: do you do it? what ...      3   \n",
      "1      this is a support subreddit for people with a ...      6   \n",
      "2      scared of my psychotic symptoms : i'm trying t...      2   \n",
      "4      i feel like a sick animal that needs to be put...      4   \n",
      "5      is constantly checking ocd subreddits a compul...      6   \n",
      "...                                                  ...    ...   \n",
      "52637  i got diagnosed with pure o, and finding it di...      6   \n",
      "52638  where can i read up on propaganda? : i want to...      5   \n",
      "52639  need help \"keeping thoughts straight,\" or, mai...      0   \n",
      "52640  does anyone else feel like none of their exper...      1   \n",
      "52641  wish me luck at work today : oh god my anxiety...      1   \n",
      "\n",
      "                                                   title  \\\n",
      "0                                fantasize about your fp   \n",
      "1      this be a support subreddit for people with a ...   \n",
      "2                         scared of my psychotic symptom   \n",
      "4      I feel like a sick animal that need to be put ...   \n",
      "5         be constantly check ocd subreddit a compulsion   \n",
      "...                                                  ...   \n",
      "52637  I get diagnose with pure o and find it difficu...   \n",
      "52638                  where can I read up on propaganda   \n",
      "52639  need help keep thought straight or maintain fi...   \n",
      "52640  do anyone else feel like none of their experie...   \n",
      "52641                          wish I luck at work today   \n",
      "\n",
      "                                               main_text  \n",
      "0      do you do it what do you fantasize about   who...  \n",
      "1      its not for post how infuriate the uneven floo...  \n",
      "2      I m try to keep remind myself that what I m th...  \n",
      "4      I have a cat for   year at the end of her life...  \n",
      "5      I kid you not when I have the thought I m cons...  \n",
      "...                                                  ...  \n",
      "52637  I be   and spend most of my life worried about...  \n",
      "52638  I want to learn about the tactic and psycholog...  \n",
      "52639  I ve always be crap at math or abstract concep...  \n",
      "52640  I ve have a lot of people tell I I have anxiet...  \n",
      "52641  oh god my anxiety be kill to I today I m at wo...  \n",
      "\n",
      "[48084 rows x 4 columns]\n"
     ]
    }
   ],
   "source": [
    "import pandas as pd\n",
    "from nltk.corpus import stopwords\n",
    "import spacy\n",
    "\n",
    "# Функція очищення тексту\n",
    "def clean_text(text):\n",
    "    text = text.str.lower()\n",
    "    text = text.str.replace(r'[^\\w\\s]', '', regex=True)\n",
    "    text = text.str.replace(\"\\n\", '', regex=True)\n",
    "    text = text.str.replace('\\d', '', regex=True)\n",
    "    text = text.str.replace(r'\\[.*?\\]', '', regex=True)\n",
    "    text = text.str.replace(r'https?://\\S+|www\\.\\S+', '', regex=True)\n",
    "    text = text.str.replace(r'<.*?>+', '', regex=True)\n",
    "    text = text.str.replace(r'\\w*\\d\\w*', '', regex=True)\n",
    "    return text\n",
    "\n",
    "# Функція видалення стоп-слів\n",
    "# custom_stopwords = {'ocd', 'anxiety', 'adhd', 'ptsd', 'bpd', 'depression', 'bipolar'}\n",
    "custom_stopwords = {}\n",
    "def remove_stopwords(text):\n",
    "    stop_words = set(stopwords.words('english'))\n",
    "    stop_words.update(custom_stopwords)\n",
    "    text = text.apply(lambda x: \" \".join(word for word in str(x).split() if word.lower() not in stop_words))\n",
    "    return text\n",
    "\n",
    "# Функція лематизації\n",
    "nlp = spacy.load('en_core_web_sm')\n",
    "\n",
    "def lemmatize_sentence(sentence):\n",
    "    doc = nlp(sentence)\n",
    "    return \" \".join([token.lemma_ for token in doc])\n",
    "\n",
    "# Застосування функцій до обох стовпців (без видалення стоп-слів)\n",
    "def process_text_columns(df, columns):\n",
    "    for col in columns:\n",
    "        # Очищення тексту\n",
    "        df[col] = clean_text(df[col])\n",
    "        # Видалення стоп-слів\n",
    "        # df[col] = remove_stopwords(df[col])\n",
    "        # Видалення найчастіших слів\n",
    "        # delete = pd.Series(' '.join(df[col]).split()).value_counts()[-1000:]\n",
    "        # df[col] = df[col].apply(lambda x: \" \".join(word for word in x.split() if word.lower() not in delete))\n",
    "        #Лематизація\n",
    "        df[col] = df[col].apply(lemmatize_sentence)\n",
    "    return df\n",
    "\n",
    "\n",
    "\n",
    "df = pd.DataFrame(df)\n",
    "# Застосування функцій до стовпців 'title' і 'main_text'\n",
    "df = process_text_columns(df, ['title', 'main_text'])\n",
    "print(df)\n"
   ]
  },
  {
   "cell_type": "code",
   "execution_count": 11,
   "metadata": {
    "execution": {
     "iopub.execute_input": "2025-05-13T12:26:48.917022Z",
     "iopub.status.busy": "2025-05-13T12:26:48.916746Z",
     "iopub.status.idle": "2025-05-13T12:26:52.351714Z",
     "shell.execute_reply": "2025-05-13T12:26:52.350652Z",
     "shell.execute_reply.started": "2025-05-13T12:26:48.917005Z"
    },
    "trusted": true
   },
   "outputs": [
    {
     "name": "stderr",
     "output_type": "stream",
     "text": [
      "huggingface/tokenizers: The current process just got forked, after parallelism has already been used. Disabling parallelism to avoid deadlocks...\n",
      "To disable this warning, you can either:\n",
      "\t- Avoid using `tokenizers` before the fork if possible\n",
      "\t- Explicitly set the environment variable TOKENIZERS_PARALLELISM=(true | false)\n"
     ]
    },
    {
     "name": "stdout",
     "output_type": "stream",
     "text": [
      "Requirement already satisfied: scikit-learn==1.2.2 in /usr/local/lib/python3.11/dist-packages (1.2.2)\n",
      "Requirement already satisfied: imbalanced-learn==0.10.1 in /usr/local/lib/python3.11/dist-packages (0.10.1)\n",
      "Requirement already satisfied: numpy>=1.17.3 in /usr/local/lib/python3.11/dist-packages (from scikit-learn==1.2.2) (1.26.4)\n",
      "Requirement already satisfied: scipy>=1.3.2 in /usr/local/lib/python3.11/dist-packages (from scikit-learn==1.2.2) (1.15.2)\n",
      "Requirement already satisfied: joblib>=1.1.1 in /usr/local/lib/python3.11/dist-packages (from scikit-learn==1.2.2) (1.5.0)\n",
      "Requirement already satisfied: threadpoolctl>=2.0.0 in /usr/local/lib/python3.11/dist-packages (from scikit-learn==1.2.2) (3.6.0)\n",
      "Requirement already satisfied: mkl_fft in /usr/local/lib/python3.11/dist-packages (from numpy>=1.17.3->scikit-learn==1.2.2) (1.3.8)\n",
      "Requirement already satisfied: mkl_random in /usr/local/lib/python3.11/dist-packages (from numpy>=1.17.3->scikit-learn==1.2.2) (1.2.4)\n",
      "Requirement already satisfied: mkl_umath in /usr/local/lib/python3.11/dist-packages (from numpy>=1.17.3->scikit-learn==1.2.2) (0.1.1)\n",
      "Requirement already satisfied: mkl in /usr/local/lib/python3.11/dist-packages (from numpy>=1.17.3->scikit-learn==1.2.2) (2025.1.0)\n",
      "Requirement already satisfied: tbb4py in /usr/local/lib/python3.11/dist-packages (from numpy>=1.17.3->scikit-learn==1.2.2) (2022.1.0)\n",
      "Requirement already satisfied: mkl-service in /usr/local/lib/python3.11/dist-packages (from numpy>=1.17.3->scikit-learn==1.2.2) (2.4.1)\n",
      "Requirement already satisfied: intel-openmp<2026,>=2024 in /usr/local/lib/python3.11/dist-packages (from mkl->numpy>=1.17.3->scikit-learn==1.2.2) (2024.2.0)\n",
      "Requirement already satisfied: tbb==2022.* in /usr/local/lib/python3.11/dist-packages (from mkl->numpy>=1.17.3->scikit-learn==1.2.2) (2022.1.0)\n",
      "Requirement already satisfied: tcmlib==1.* in /usr/local/lib/python3.11/dist-packages (from tbb==2022.*->mkl->numpy>=1.17.3->scikit-learn==1.2.2) (1.3.0)\n",
      "Requirement already satisfied: intel-cmplr-lib-rt in /usr/local/lib/python3.11/dist-packages (from mkl_umath->numpy>=1.17.3->scikit-learn==1.2.2) (2024.2.0)\n",
      "Requirement already satisfied: intel-cmplr-lib-ur==2024.2.0 in /usr/local/lib/python3.11/dist-packages (from intel-openmp<2026,>=2024->mkl->numpy>=1.17.3->scikit-learn==1.2.2) (2024.2.0)\n"
     ]
    }
   ],
   "source": [
    "!pip install scikit-learn==1.2.2 imbalanced-learn==0.10.1\n"
   ]
  },
  {
   "cell_type": "code",
   "execution_count": null,
   "metadata": {
    "execution": {
     "iopub.execute_input": "2025-05-13T12:27:01.607620Z",
     "iopub.status.busy": "2025-05-13T12:27:01.607313Z",
     "iopub.status.idle": "2025-05-13T12:27:01.808030Z",
     "shell.execute_reply": "2025-05-13T12:27:01.807042Z",
     "shell.execute_reply.started": "2025-05-13T12:27:01.607596Z"
    },
    "trusted": true
   },
   "outputs": [
    {
     "name": "stdout",
     "output_type": "stream",
     "text": [
      "Розподіл класів після балансування:\n",
      "label\n",
      "0    4086\n",
      "1    4086\n",
      "2    4086\n",
      "3    4086\n",
      "4    4086\n",
      "5    4086\n",
      "6    4086\n",
      "7    4086\n",
      "Name: count, dtype: int64\n",
      "\n",
      "Розподіл класів у тренувальному наборі:\n",
      "label\n",
      "5    3335\n",
      "0    3296\n",
      "1    3279\n",
      "4    3264\n",
      "6    3264\n",
      "3    3260\n",
      "2    3228\n",
      "7    3224\n",
      "Name: count, dtype: int64\n",
      "\n",
      "Розподіл класів у тестовому наборі:\n",
      "label\n",
      "7    862\n",
      "2    858\n",
      "3    826\n",
      "6    822\n",
      "4    822\n",
      "1    807\n",
      "0    790\n",
      "5    751\n",
      "Name: count, dtype: int64\n"
     ]
    }
   ],
   "source": [
    "import pandas as pd\n",
    "from imblearn.under_sampling import RandomUnderSampler\n",
    "from sklearn.model_selection import train_test_split\n",
    "\n",
    "\n",
    "   \n",
    "\n",
    "# Об'єднання заголовку і основного тексту в один стовпець\n",
    "df['text'] = df['title'].str.strip(':') + ' ' + df['main_text']\n",
    "# df['text'] = df['main_text']\n",
    "# Розподіл на X (тексти) та y (мітки)\n",
    "X = df['text']\n",
    "y = df['label']\n",
    "\n",
    "\n",
    "undersampler = RandomUnderSampler(sampling_strategy='auto', random_state=42)\n",
    "# Застосування undersampling\n",
    "X_res, y_res = undersampler.fit_resample(X.values.reshape(-1, 1), y)\n",
    "print(\"Розподіл класів після балансування:\")\n",
    "print(pd.Series(y_res).value_counts())\n",
    "balanced_df = pd.DataFrame({\n",
    "    'text': X_res.flatten(),\n",
    "    'label': y_res\n",
    "})\n",
    "\n",
    "# Розбиття на тренувальний та тестовий набори після балансування\n",
    "train_df, test_df = train_test_split(balanced_df, test_size=0.2, random_state=42)\n",
    "print(\"\\nРозподіл класів у тренувальному наборі:\")\n",
    "print(train_df['label'].value_counts())\n",
    "print(\"\\nРозподіл класів у тестовому наборі:\")\n",
    "print(test_df['label'].value_counts())\n"
   ]
  },
  {
   "cell_type": "code",
   "execution_count": null,
   "metadata": {
    "execution": {
     "iopub.execute_input": "2025-05-13T12:30:24.767305Z",
     "iopub.status.busy": "2025-05-13T12:30:24.766890Z",
     "iopub.status.idle": "2025-05-13T16:19:36.526419Z",
     "shell.execute_reply": "2025-05-13T16:19:36.525561Z",
     "shell.execute_reply.started": "2025-05-13T12:30:24.767282Z"
    },
    "trusted": true
   },
   "outputs": [
    {
     "name": "stdout",
     "output_type": "stream",
     "text": [
      "Using device: cuda\n"
     ]
    },
    {
     "name": "stderr",
     "output_type": "stream",
     "text": [
      "Some weights of DebertaV2ForSequenceClassification were not initialized from the model checkpoint at microsoft/deberta-v3-base and are newly initialized: ['classifier.bias', 'classifier.weight', 'pooler.dense.bias', 'pooler.dense.weight']\n",
      "You should probably TRAIN this model on a down-stream task to be able to use it for predictions and inference.\n"
     ]
    },
    {
     "data": {
      "application/vnd.jupyter.widget-view+json": {
       "model_id": "41f92c7eacd24b669b1bc5a4f5885b99",
       "version_major": 2,
       "version_minor": 0
      },
      "text/plain": [
       "model.safetensors:   0%|          | 0.00/499M [00:00<?, ?B/s]"
      ]
     },
     "metadata": {},
     "output_type": "display_data"
    },
    {
     "name": "stderr",
     "output_type": "stream",
     "text": [
      "Some weights of RobertaForSequenceClassification were not initialized from the model checkpoint at roberta-base and are newly initialized: ['classifier.dense.bias', 'classifier.dense.weight', 'classifier.out_proj.bias', 'classifier.out_proj.weight']\n",
      "You should probably TRAIN this model on a down-stream task to be able to use it for predictions and inference.\n",
      "DeBERTa - Epoch 1/5: 100%|██████████| 1635/1635 [24:49<00:00,  1.10it/s]\n"
     ]
    },
    {
     "name": "stdout",
     "output_type": "stream",
     "text": [
      "DeBERTa - Epoch 1/5 - Loss: 0.8954, Accuracy: 0.6967\n"
     ]
    },
    {
     "name": "stderr",
     "output_type": "stream",
     "text": [
      "DeBERTa - Epoch 2/5: 100%|██████████| 1635/1635 [25:00<00:00,  1.09it/s]\n"
     ]
    },
    {
     "name": "stdout",
     "output_type": "stream",
     "text": [
      "DeBERTa - Epoch 2/5 - Loss: 0.5286, Accuracy: 0.8363\n"
     ]
    },
    {
     "name": "stderr",
     "output_type": "stream",
     "text": [
      "DeBERTa - Epoch 3/5: 100%|██████████| 1635/1635 [24:49<00:00,  1.10it/s]\n"
     ]
    },
    {
     "name": "stdout",
     "output_type": "stream",
     "text": [
      "DeBERTa - Epoch 3/5 - Loss: 0.4101, Accuracy: 0.8725\n"
     ]
    },
    {
     "name": "stderr",
     "output_type": "stream",
     "text": [
      "DeBERTa - Epoch 4/5: 100%|██████████| 1635/1635 [25:11<00:00,  1.08it/s]\n"
     ]
    },
    {
     "name": "stdout",
     "output_type": "stream",
     "text": [
      "DeBERTa - Epoch 4/5 - Loss: 0.3116, Accuracy: 0.9054\n"
     ]
    },
    {
     "name": "stderr",
     "output_type": "stream",
     "text": [
      "DeBERTa - Epoch 5/5: 100%|██████████| 1635/1635 [24:49<00:00,  1.10it/s]\n"
     ]
    },
    {
     "name": "stdout",
     "output_type": "stream",
     "text": [
      "DeBERTa - Epoch 5/5 - Loss: 0.2367, Accuracy: 0.9304\n"
     ]
    },
    {
     "name": "stderr",
     "output_type": "stream",
     "text": [
      "RoBERTa - Epoch 1/5: 100%|██████████| 1635/1635 [19:25<00:00,  1.40it/s]\n"
     ]
    },
    {
     "name": "stdout",
     "output_type": "stream",
     "text": [
      "RoBERTa - Epoch 1/5 - Loss: 0.7219, Accuracy: 0.7647\n"
     ]
    },
    {
     "name": "stderr",
     "output_type": "stream",
     "text": [
      "RoBERTa - Epoch 2/5: 100%|██████████| 1635/1635 [19:28<00:00,  1.40it/s]\n"
     ]
    },
    {
     "name": "stdout",
     "output_type": "stream",
     "text": [
      "RoBERTa - Epoch 2/5 - Loss: 0.4681, Accuracy: 0.8503\n"
     ]
    },
    {
     "name": "stderr",
     "output_type": "stream",
     "text": [
      "RoBERTa - Epoch 3/5: 100%|██████████| 1635/1635 [19:15<00:00,  1.42it/s]\n"
     ]
    },
    {
     "name": "stdout",
     "output_type": "stream",
     "text": [
      "RoBERTa - Epoch 3/5 - Loss: 0.3466, Accuracy: 0.8884\n"
     ]
    },
    {
     "name": "stderr",
     "output_type": "stream",
     "text": [
      "RoBERTa - Epoch 4/5: 100%|██████████| 1635/1635 [19:22<00:00,  1.41it/s]\n"
     ]
    },
    {
     "name": "stdout",
     "output_type": "stream",
     "text": [
      "RoBERTa - Epoch 4/5 - Loss: 0.2373, Accuracy: 0.9269\n"
     ]
    },
    {
     "name": "stderr",
     "output_type": "stream",
     "text": [
      "RoBERTa - Epoch 5/5: 100%|██████████| 1635/1635 [19:30<00:00,  1.40it/s]\n"
     ]
    },
    {
     "name": "stdout",
     "output_type": "stream",
     "text": [
      "RoBERTa - Epoch 5/5 - Loss: 0.1665, Accuracy: 0.9515\n",
      "\n",
      "DeBERTa Evaluation:\n",
      "Accuracy: 0.8377\n",
      "              precision    recall  f1-score   support\n",
      "\n",
      "           0       0.91      0.86      0.88       790\n",
      "           1       0.75      0.83      0.79       807\n",
      "           2       0.82      0.77      0.79       858\n",
      "           3       0.79      0.76      0.77       826\n",
      "           4       0.72      0.80      0.76       822\n",
      "           5       0.99      0.98      0.99       751\n",
      "           6       0.89      0.88      0.89       822\n",
      "           7       0.87      0.84      0.85       862\n",
      "\n",
      "    accuracy                           0.84      6538\n",
      "   macro avg       0.84      0.84      0.84      6538\n",
      "weighted avg       0.84      0.84      0.84      6538\n",
      "\n",
      "\n",
      "RoBERTa Evaluation:\n",
      "Accuracy: 0.8383\n",
      "              precision    recall  f1-score   support\n",
      "\n",
      "           0       0.91      0.87      0.89       790\n",
      "           1       0.77      0.81      0.79       807\n",
      "           2       0.82      0.76      0.79       858\n",
      "           3       0.80      0.76      0.78       826\n",
      "           4       0.72      0.78      0.75       822\n",
      "           5       0.99      0.99      0.99       751\n",
      "           6       0.88      0.89      0.89       822\n",
      "           7       0.85      0.86      0.85       862\n",
      "\n",
      "    accuracy                           0.84      6538\n",
      "   macro avg       0.84      0.84      0.84      6538\n",
      "weighted avg       0.84      0.84      0.84      6538\n",
      "\n"
     ]
    },
    {
     "name": "stderr",
     "output_type": "stream",
     "text": [
      "Ensemble Evaluating: 100%|██████████| 409/409 [03:28<00:00,  1.96it/s]"
     ]
    },
    {
     "name": "stdout",
     "output_type": "stream",
     "text": [
      "Ensembled Model Evaluation:\n",
      "Test Accuracy: 0.8507\n",
      "              precision    recall  f1-score   support\n",
      "\n",
      "           0       0.92      0.88      0.90       790\n",
      "           1       0.78      0.84      0.81       807\n",
      "           2       0.84      0.79      0.81       858\n",
      "           3       0.81      0.78      0.79       826\n",
      "           4       0.73      0.80      0.77       822\n",
      "           5       0.99      0.99      0.99       751\n",
      "           6       0.91      0.89      0.90       822\n",
      "           7       0.86      0.86      0.86       862\n",
      "\n",
      "    accuracy                           0.85      6538\n",
      "   macro avg       0.85      0.85      0.85      6538\n",
      "weighted avg       0.85      0.85      0.85      6538\n",
      "\n"
     ]
    },
    {
     "name": "stderr",
     "output_type": "stream",
     "text": [
      "\n"
     ]
    }
   ],
   "source": [
    "import torch\n",
    "from torch.utils.data import DataLoader, Dataset\n",
    "from transformers import AutoTokenizer, AutoModelForSequenceClassification\n",
    "from torch.optim import AdamW\n",
    "from transformers import get_linear_schedule_with_warmup\n",
    "from sklearn.metrics import accuracy_score, classification_report\n",
    "from tqdm import tqdm\n",
    "import numpy as np\n",
    "from sklearn.preprocessing import LabelEncoder\n",
    "\n",
    "device = torch.device('cuda' if torch.cuda.is_available() else 'cpu')\n",
    "print(f\"Using device: {device}\")\n",
    "\n",
    "deberta_model_name = 'microsoft/deberta-v3-base'\n",
    "roberta_model_name = 'roberta-base'\n",
    "\n",
    "deberta_tokenizer = AutoTokenizer.from_pretrained(deberta_model_name)\n",
    "roberta_tokenizer = AutoTokenizer.from_pretrained(roberta_model_name)\n",
    "\n",
    "\n",
    "def tokenize_data(texts, tokenizer, max_len):\n",
    "    return tokenizer(texts, padding=True, truncation=True, max_length=max_len, return_tensors=\"pt\")\n",
    "\n",
    "\n",
    "max_len = 256\n",
    "train_texts = train_df['text'].tolist()\n",
    "test_texts = test_df['text'].tolist()\n",
    "\n",
    "label_encoder = LabelEncoder()\n",
    "y_train = label_encoder.fit_transform(train_df['label'])\n",
    "y_test = label_encoder.transform(test_df['label'])\n",
    "num_labels = len(label_encoder.classes_)\n",
    "\n",
    "deberta_train_encodings = tokenize_data(train_texts, deberta_tokenizer, max_len)\n",
    "deberta_test_encodings = tokenize_data(test_texts, deberta_tokenizer, max_len)\n",
    "\n",
    "roberta_train_encodings = tokenize_data(train_texts, roberta_tokenizer, max_len)\n",
    "roberta_test_encodings = tokenize_data(test_texts, roberta_tokenizer, max_len)\n",
    "\n",
    "class TextDataset(Dataset):\n",
    "    def __init__(self, encodings, labels):\n",
    "        self.encodings = encodings\n",
    "        self.labels = torch.tensor(labels, dtype=torch.long)\n",
    "\n",
    "    def __len__(self):\n",
    "        return len(self.labels)\n",
    "\n",
    "    def __getitem__(self, idx):\n",
    "        item = {key: val[idx] for key, val in self.encodings.items()}\n",
    "        item['labels'] = self.labels[idx]\n",
    "        return item\n",
    "\n",
    "batch_size = 16\n",
    "\n",
    "deberta_train_dataset = TextDataset(deberta_train_encodings, y_train)\n",
    "deberta_test_dataset = TextDataset(deberta_test_encodings, y_test)\n",
    "\n",
    "roberta_train_dataset = TextDataset(roberta_train_encodings, y_train)\n",
    "roberta_test_dataset = TextDataset(roberta_test_encodings, y_test)\n",
    "\n",
    "deberta_train_loader = DataLoader(deberta_train_dataset, batch_size=batch_size, shuffle=True)\n",
    "deberta_test_loader = DataLoader(deberta_test_dataset, batch_size=batch_size, shuffle=False)\n",
    "\n",
    "roberta_train_loader = DataLoader(roberta_train_dataset, batch_size=batch_size, shuffle=True)\n",
    "roberta_test_loader = DataLoader(roberta_test_dataset, batch_size=batch_size, shuffle=False)\n",
    "\n",
    "# Initialize\n",
    "deberta_model = AutoModelForSequenceClassification.from_pretrained(deberta_model_name, num_labels=num_labels).to(device)\n",
    "roberta_model = AutoModelForSequenceClassification.from_pretrained(roberta_model_name, num_labels=num_labels).to(device)\n",
    "\n",
    "deberta_optimizer = AdamW(deberta_model.parameters(), lr=2e-5)\n",
    "roberta_optimizer = AdamW(roberta_model.parameters(), lr=2e-5)\n",
    "\n",
    "epochs = 5\n",
    "\n",
    "deberta_scheduler = get_linear_schedule_with_warmup(\n",
    "    deberta_optimizer, num_warmup_steps=0, num_training_steps=len(deberta_train_loader) * epochs)\n",
    "\n",
    "roberta_scheduler = get_linear_schedule_with_warmup(\n",
    "    roberta_optimizer, num_warmup_steps=0, num_training_steps=len(roberta_train_loader) * epochs)\n",
    "\n",
    "# Training\n",
    "def train_model(model, train_loader, optimizer, scheduler, device, epochs, model_name=\"Model\"):\n",
    "    model.train()\n",
    "    for epoch in range(epochs):\n",
    "        total_loss = 0\n",
    "        correct_predictions = 0\n",
    "        total_predictions = 0\n",
    "        for batch in tqdm(train_loader, desc=f\"{model_name} - Epoch {epoch+1}/{epochs}\"):\n",
    "            batch = {k: v.to(device) for k, v in batch.items()}\n",
    "\n",
    "            optimizer.zero_grad()\n",
    "            outputs = model(**batch)\n",
    "            loss = outputs.loss\n",
    "            logits = outputs.logits\n",
    "\n",
    "            loss.backward()\n",
    "            optimizer.step()\n",
    "            scheduler.step()\n",
    "\n",
    "            total_loss += loss.item()\n",
    "            predictions = torch.argmax(logits, dim=-1)\n",
    "            correct_predictions += (predictions == batch['labels']).sum().item()\n",
    "            total_predictions += batch['labels'].size(0)\n",
    "\n",
    "        avg_loss = total_loss / len(train_loader)\n",
    "        accuracy = correct_predictions / total_predictions\n",
    "        print(f\"{model_name} - Epoch {epoch + 1}/{epochs} - Loss: {avg_loss:.4f}, Accuracy: {accuracy:.4f}\")\n",
    "\n",
    "# Оцінка моделі окремо\n",
    "def evaluate_model(model, test_loader, device, label_encoder, model_name=\"Model\"):\n",
    "    model.eval()\n",
    "    all_preds, all_labels = [], []\n",
    "\n",
    "    with torch.no_grad():\n",
    "        for batch in test_loader:\n",
    "            batch = {k: v.to(device) for k, v in batch.items()}\n",
    "            outputs = model(**batch)\n",
    "            logits = outputs.logits\n",
    "            preds = torch.argmax(logits, dim=-1)\n",
    "\n",
    "            all_preds.extend(preds.cpu().numpy())\n",
    "            all_labels.extend(batch['labels'].cpu().numpy())\n",
    "\n",
    "    print(f\"\\n{model_name} Evaluation:\")\n",
    "    acc = accuracy_score(all_labels, all_preds)\n",
    "    print(f\"Accuracy: {acc:.4f}\")\n",
    "    print(classification_report(all_labels, all_preds, target_names=[str(c) for c in label_encoder.classes_]))\n",
    "\n",
    "# Навчання\n",
    "train_model(deberta_model, deberta_train_loader, deberta_optimizer, deberta_scheduler, device, epochs, model_name=\"DeBERTa\")\n",
    "train_model(roberta_model, roberta_train_loader, roberta_optimizer, roberta_scheduler, device, epochs, model_name=\"RoBERTa\")\n",
    "\n",
    "# Оцінка окремо\n",
    "evaluate_model(deberta_model, deberta_test_loader, device, label_encoder, model_name=\"DeBERTa\")\n",
    "evaluate_model(roberta_model, roberta_test_loader, device, label_encoder, model_name=\"RoBERTa\")\n",
    "\n",
    "\n",
    "def evaluate_ensemble(models, test_loaders, device):\n",
    "    for model in models:\n",
    "        model.eval()\n",
    "\n",
    "    all_preds, all_labels = [], []\n",
    "\n",
    "    with torch.no_grad():\n",
    "        for deberta_batch, roberta_batch in tqdm(zip(*test_loaders), desc=\"Ensemble Evaluating\", total=len(test_loaders[0])):\n",
    "            deberta_batch = {k: v.to(device) for k, v in deberta_batch.items()}\n",
    "            roberta_batch = {k: v.to(device) for k, v in roberta_batch.items()}\n",
    "\n",
    "            deberta_outputs = models[0](**deberta_batch).logits\n",
    "            roberta_outputs = models[1](**roberta_batch).logits\n",
    "\n",
    "            # Soft voting\n",
    "            avg_logits = (deberta_outputs + roberta_outputs) / 2\n",
    "            preds = torch.argmax(avg_logits, dim=-1)\n",
    "\n",
    "            all_preds.extend(preds.cpu().numpy())\n",
    "            all_labels.extend(deberta_batch['labels'].cpu().numpy())\n",
    "\n",
    "    return all_preds, all_labels\n",
    "\n",
    "\n",
    "y_test_pred, y_test_labels = evaluate_ensemble(\n",
    "    [deberta_model, roberta_model],\n",
    "    [deberta_test_loader, roberta_test_loader],\n",
    "    device\n",
    ")\n",
    "\n",
    "print(\"Ensembled Model Evaluation:\")\n",
    "test_accuracy = accuracy_score(y_test_labels, y_test_pred)\n",
    "print(f\"Test Accuracy: {test_accuracy:.4f}\")\n",
    "print(classification_report(y_test_labels, y_test_pred, target_names=[str(c) for c in label_encoder.classes_]))\n"
   ]
  },
  {
   "cell_type": "code",
   "execution_count": null,
   "metadata": {
    "execution": {
     "iopub.execute_input": "2025-05-13T16:27:09.142355Z",
     "iopub.status.busy": "2025-05-13T16:27:09.141954Z",
     "iopub.status.idle": "2025-05-13T16:27:09.503254Z",
     "shell.execute_reply": "2025-05-13T16:27:09.502373Z",
     "shell.execute_reply.started": "2025-05-13T16:27:09.142332Z"
    },
    "trusted": true
   },
   "outputs": [
    {
     "data": {
      "image/png": "[encoded data removed]",
      "text/plain": [
       "<Figure size 1000x800 with 2 Axes>"
      ]
     },
     "metadata": {},
     "output_type": "display_data"
    }
   ],
   "source": [
    "import matplotlib.pyplot as plt\n",
    "import seaborn as sns\n",
    "from sklearn.metrics import confusion_matrix\n",
    "\n",
    "cm = confusion_matrix(y_test_labels, y_test_pred)\n",
    "\n",
    "\n",
    "plt.figure(figsize=(10, 8))\n",
    "sns.heatmap(cm, annot=True, fmt='d', cmap='Blues',\n",
    "            xticklabels=label_encoder.classes_,\n",
    "            yticklabels=label_encoder.classes_)\n",
    "plt.xlabel('Predicted Labels')\n",
    "plt.ylabel('True Labels')\n",
    "plt.title('Confusion Matrix - Ensembled Model')\n",
    "plt.show()\n"
   ]
  },
  {
   "cell_type": "code",
   "execution_count": null,
   "metadata": {
    "execution": {
     "iopub.execute_input": "2025-05-13T16:34:24.324192Z",
     "iopub.status.busy": "2025-05-13T16:34:24.323561Z",
     "iopub.status.idle": "2025-05-13T16:34:28.686407Z",
     "shell.execute_reply": "2025-05-13T16:34:28.685508Z",
     "shell.execute_reply.started": "2025-05-13T16:34:24.324161Z"
    },
    "trusted": true
   },
   "outputs": [
    {
     "name": "stdout",
     "output_type": "stream",
     "text": [
      "DeBERTa weights saved to /kaggle/working/deberta_model_weights.pth\n",
      "RoBERTa weights saved to /kaggle/working/roberta_model_weights.pth\n",
      "DeBERTa full model saved to /kaggle/working/deberta_full_model.pt\n",
      "RoBERTa full model saved to /kaggle/working/roberta_full_model.pt\n"
     ]
    }
   ],
   "source": [
    "\n",
    "deberta_weights_path = '/kaggle/working/deberta_model_weights.pth'\n",
    "roberta_weights_path = '/kaggle/working/roberta_model_weights.pth'\n",
    "\n",
    "deberta_fullmodel_path = '/kaggle/working/deberta_full_model.pt'\n",
    "roberta_fullmodel_path = '/kaggle/working/roberta_full_model.pt'\n",
    "\n",
    "\n",
    "torch.save(deberta_model.state_dict(), deberta_weights_path)\n",
    "torch.save(roberta_model.state_dict(), roberta_weights_path)\n",
    "\n",
    "torch.save(deberta_model, deberta_fullmodel_path)\n",
    "torch.save(roberta_model, roberta_fullmodel_path)\n",
    "\n",
    "print(f\"DeBERTa weights saved to {deberta_weights_path}\")\n",
    "print(f\"RoBERTa weights saved to {roberta_weights_path}\")\n",
    "print(f\"DeBERTa full model saved to {deberta_fullmodel_path}\")\n",
    "print(f\"RoBERTa full model saved to {roberta_fullmodel_path}\")\n"
   ]
  },
  {
   "cell_type": "code",
   "execution_count": null,
   "metadata": {
    "execution": {
     "iopub.execute_input": "2025-05-13T16:57:46.488320Z",
     "iopub.status.busy": "2025-05-13T16:57:46.487542Z",
     "iopub.status.idle": "2025-05-13T16:57:51.165758Z",
     "shell.execute_reply": "2025-05-13T16:57:51.165032Z",
     "shell.execute_reply.started": "2025-05-13T16:57:46.488294Z"
    },
    "trusted": true
   },
   "outputs": [
    {
     "name": "stdout",
     "output_type": "stream",
     "text": [
      "[6 1 0 7 3 4 2 5]\n"
     ]
    }
   ],
   "source": [
    "from transformers import AutoModelForSequenceClassification, AutoTokenizer\n",
    "import torch\n",
    "import numpy as np\n",
    "import pandas as pd\n",
    "import re  # Importing the re module for regular expressions\n",
    "from nltk.corpus import stopwords\n",
    "import spacy\n",
    "\n",
    "device = torch.device('cuda' if torch.cuda.is_available() else 'cpu')\n",
    "\n",
    "deberta_model = torch.load('/kaggle/working/deberta_full_model.pt', weights_only=False)\n",
    "roberta_model = torch.load('/kaggle/working/roberta_full_model.pt', weights_only=False)\n",
    "\n",
    "\n",
    "deberta_model.to(device)\n",
    "roberta_model.to(device)\n",
    "\n",
    "deberta_model.eval()\n",
    "roberta_model.eval()\n",
    "\n",
    "deberta_tokenizer = AutoTokenizer.from_pretrained('microsoft/deberta-v3-base')\n",
    "roberta_tokenizer = AutoTokenizer.from_pretrained('roberta-base')\n",
    "\n",
    "#  Функція для ансамблевого передбачення \n",
    "def ensemble_predict(texts):\n",
    "    deberta_inputs = deberta_tokenizer(texts, padding=True, truncation=True, max_length=256, return_tensors=\"pt\").to(device)\n",
    "    roberta_inputs = roberta_tokenizer(texts, padding=True, truncation=True, max_length=256, return_tensors=\"pt\").to(device)\n",
    "\n",
    "    with torch.no_grad():\n",
    "        deberta_logits = deberta_model(**deberta_inputs).logits\n",
    "        roberta_logits = roberta_model(**roberta_inputs).logits\n",
    "\n",
    "        # Soft voting - середнє логітів\n",
    "        avg_logits = (deberta_logits + roberta_logits) / 2\n",
    "\n",
    "        preds = torch.argmax(avg_logits, dim=-1)\n",
    "\n",
    "    predicted_labels = label_encoder.inverse_transform(preds.cpu().numpy())\n",
    "    return predicted_labels\n",
    "\n",
    "# Функція очищення тексту\n",
    "def clean_text(text):\n",
    "    text = text.lower()  # Перевести текст у нижній регістр\n",
    "    text = re.sub(r'[^\\w\\s]', '', text)  # Видалити спеціальні символи\n",
    "    text = re.sub(\"\\n\", '', text)  # Видалити нові рядки\n",
    "    text = re.sub('\\d', '', text)  # Видалити цифри\n",
    "    text = re.sub(r'\\[.*?\\]', '', text)  # Видалити текст у квадратних дужках\n",
    "    text = re.sub(r'https?://\\S+|www\\.\\S+', '', text)  # Видалити URL\n",
    "    text = re.sub(r'<.*?>+', '', text)  # Видалити HTML теги\n",
    "    text = re.sub(r'\\w*\\d\\w*', '', text)  # Видалити слова з цифрами\n",
    "    return text\n",
    "\n",
    "# Функція лематизації\n",
    "nlp = spacy.load('en_core_web_sm')\n",
    "\n",
    "def lemmatize_sentence(sentence):\n",
    "    doc = nlp(sentence)\n",
    "    return \" \".join([token.lemma_ for token in doc])\n",
    "\n",
    "def preprocess_texts(texts):\n",
    "    processed_texts = []\n",
    "    for text in texts:\n",
    "        text = clean_text(text)  # Очистити текст\n",
    "        text = lemmatize_sentence(text)  # Лематизувати текст\n",
    "        processed_texts.append(text)\n",
    "    return processed_texts\n",
    "\n",
    "# Приклад текстів для препроцесингу\n",
    "texts = [\n",
    "    \"I can't leave the house without checking the door lock at least ten times. If I don't, I feel like something terrible will happen.\",\n",
    "    \"My heart races even when I’m just thinking about going to a social event. I keep imagining the worst possible scenarios.\",\n",
    "    \"I start a task, then immediately get distracted by something else. I find it almost impossible to stay focused on anything for long.\",\n",
    "    \"Loud noises make me jump and flash me back to the accident. I can’t sleep properly and constantly feel on edge.\",\n",
    "    \"I constantly feel emotions so intensely that it’s exhausting. One minute I feel like I am loved and valued, and the next I am completely convinced that everyone secretly hates me. Small arguments make me spiral out of control, and I fear abandonment so much that I sometimes push people away first, just to avoid the pain of losing them later.\",\n",
    "    \"Every morning I wake up and feel a heavy weight on my chest. Even the simplest tasks like brushing my teeth or answering a message feel overwhelming. It's like there’s no point in anything I do. I isolate myself from friends because I don't want to be a burden, and sometimes I just lie in bed for hours staring at the ceiling, unable to move.\",\n",
    "    \" I stay up all night brainstorming business ideas, talking non-stop, jumping from one task to another. I never know how I’ll wake up tomorrow, and that unpredictability scares me the most. I think few persons live in my body\",\n",
    "    \"Here's a light-hearted joke for you: Why don't skeletons fight each other? Because they don't have the guts!\"\n",
    "]\n",
    "\n",
    "# Процесинг текстів\n",
    "processed_texts = preprocess_texts(texts)\n",
    "\n",
    "# Далі можна передавати ці оброблені тексти в функцію передбачення ансамблю:\n",
    "predictions = ensemble_predict(processed_texts)\n",
    "print(predictions)\n",
    "\n"
   ]
  }
 ],
 "metadata": {
  "kaggle": {
   "accelerator": "nvidiaTeslaT4",
   "dataSources": [],
   "dockerImageVersionId": 31041,
   "isGpuEnabled": true,
   "isInternetEnabled": true,
   "language": "python",
   "sourceType": "notebook"
  },
  "kernelspec": {
   "display_name": "Python 3",
   "language": "python",
   "name": "python3"
  },
  "language_info": {
   "codemirror_mode": {
    "name": "ipython",
    "version": 3
   },
   "file_extension": ".py",
   "mimetype": "text/x-python",
   "name": "python",
   "nbconvert_exporter": "python",
   "pygments_lexer": "ipython3",
   "version": "3.11.11"
  }
 },
 "nbformat": 4,
 "nbformat_minor": 4
}
